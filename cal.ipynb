{
 "cells": [
  {
   "cell_type": "code",
   "execution_count": 1,
   "metadata": {},
   "outputs": [],
   "source": [
    "import cv2\n",
    "import sys\n",
    "sys.path.append('/opt/movidius/caffe/python')\n",
    "import caffe\n",
    "\n",
    "import numpy as np\n",
    "from PIL import Image"
   ]
  },
  {
   "cell_type": "code",
   "execution_count": 2,
   "metadata": {},
   "outputs": [],
   "source": [
    "img_file = '/dl/data/kitti_road/data_road_ncs/train_320_480/umm_000079.png'\n",
    "idx_file = '/dl/data/kitti_road/data_road_ncs/label_320_480/umm_road_000079.png'\n",
    "\n"
   ]
  },
  {
   "cell_type": "code",
   "execution_count": null,
   "metadata": {},
   "outputs": [],
   "source": []
  },
  {
   "cell_type": "code",
   "execution_count": 7,
   "metadata": {},
   "outputs": [],
   "source": [
    "label = Image.open(idx_file)\n",
    "label = np.array(label, dtype=np.int8)\n",
    "label_road = np.all(label == [255, 0, 255], axis=2)\n",
    "label_bg = np.any(label != [255, 0, 255], axis=2)\n",
    "label_all = np.dstack([label_bg, label_road])\n",
    "label_all = label_all.astype(np.float32)\n",
    "label_all = label_all.transpose((2, 0, 1))"
   ]
  },
  {
   "cell_type": "code",
   "execution_count": 8,
   "metadata": {},
   "outputs": [
    {
     "name": "stdout",
     "output_type": "stream",
     "text": [
      "(2, 320, 480)\n"
     ]
    }
   ],
   "source": [
    "print(label_all.shape)"
   ]
  },
  {
   "cell_type": "code",
   "execution_count": null,
   "metadata": {},
   "outputs": [],
   "source": []
  }
 ],
 "metadata": {
  "kernelspec": {
   "display_name": "Python 3",
   "language": "python",
   "name": "python3"
  },
  "language_info": {
   "codemirror_mode": {
    "name": "ipython",
    "version": 3
   },
   "file_extension": ".py",
   "mimetype": "text/x-python",
   "name": "python",
   "nbconvert_exporter": "python",
   "pygments_lexer": "ipython3",
   "version": "3.5.2"
  }
 },
 "nbformat": 4,
 "nbformat_minor": 2
}
